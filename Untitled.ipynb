{
 "cells": [
  {
   "cell_type": "markdown",
   "metadata": {},
   "source": [
    "## Prototyping mini datavis tools with jupyter widgets/interact"
   ]
  },
  {
   "cell_type": "code",
   "execution_count": null,
   "metadata": {},
   "outputs": [],
   "source": [
    "import pandas as pd\n",
    "import seaborn as sns\n",
    "import matplotlib.pyplot as plt\n",
    "%matplotlib inline\n",
    "\n",
    "from ipywidgets import interact, interactive, fixed, interact_manual\n",
    "import ipywidgets as widgets\n",
    "\n",
    "from IPython.display import HTML"
   ]
  },
  {
   "cell_type": "code",
   "execution_count": null,
   "metadata": {},
   "outputs": [],
   "source": [
    "df = pd.read_csv('projectsearch-1515844370782.csv')\n",
    "df[['FundingOrgName', 'LeadROName', 'AwardPounds']].head()"
   ]
  },
  {
   "cell_type": "code",
   "execution_count": null,
   "metadata": {},
   "outputs": [],
   "source": [
    "plt.figure(figsize=(15,10));\n",
    "(\n",
    "    df[df['LeadROName'].isin(['University of Edinburgh', 'University of Southampton'])]\n",
    "    .groupby(['LeadROName', 'FundingOrgName'])\n",
    "    ['AwardPounds']\n",
    "    .sum().unstack(0)\n",
    "    .plot(kind='bar', subplots=True, figsize=(10,10))\n",
    ");"
   ]
  },
  {
   "cell_type": "code",
   "execution_count": null,
   "metadata": {},
   "outputs": [],
   "source": [
    "def compare_projects(one, two):\n",
    "    \n",
    "    plt.figure(figsize=(15,10))\n",
    "    (\n",
    "    df[df['LeadROName'].isin([one, two])]\n",
    "    .groupby(['LeadROName', 'FundingOrgName'])\n",
    "    ['AwardPounds']\n",
    "    .sum().unstack(0)\n",
    "    .plot(kind='bar', subplots=True, figsize=(10,10))\n",
    "    );\n",
    "\n",
    "    \n",
    "   \n",
    "compare_projects('University of Edinburgh', 'University of Southampton')"
   ]
  },
  {
   "cell_type": "code",
   "execution_count": 21,
   "metadata": {},
   "outputs": [
    {
     "data": {
      "text/plain": [
       "<matplotlib.figure.Figure at 0x7f994ad0e5f8>"
      ]
     },
     "metadata": {},
     "output_type": "display_data"
    },
    {
     "data": {
      "application/vnd.jupyter.widget-view+json": {
       "model_id": "bf9d3b036ec14df2ad98e826349de770",
       "version_major": 2,
       "version_minor": 0
      },
      "text/html": [
       "<p>Failed to display Jupyter Widget of type <code>interactive</code>.</p>\n",
       "<p>\n",
       "  If you're reading this message in the Jupyter Notebook or JupyterLab Notebook, it may mean\n",
       "  that the widgets JavaScript is still loading. If this message persists, it\n",
       "  likely means that the widgets JavaScript library is either not installed or\n",
       "  not enabled. See the <a href=\"https://ipywidgets.readthedocs.io/en/stable/user_install.html\">Jupyter\n",
       "  Widgets Documentation</a> for setup instructions.\n",
       "</p>\n",
       "<p>\n",
       "  If you're reading this message in another frontend (for example, a static\n",
       "  rendering on GitHub or <a href=\"https://nbviewer.jupyter.org/\">NBViewer</a>),\n",
       "  it may mean that your frontend doesn't currently support widgets.\n",
       "</p>\n"
      ],
      "text/plain": [
       "interactive(children=(Dropdown(description='one', options=('Aberystwyth University', 'Addis Ababa University', 'Aga Khan University', 'Albert-Ludwigs University Freiburg', 'American University of Beirut', 'Anglia Ruskin University', 'Arts University Bournemouth', 'Aston University', 'Bangor University', 'Bath Spa University', 'Birmingham City University', 'Bishop Grosseteste University College', 'Bournemouth University', 'Brown University', 'Brunel University', 'Brunel University London', 'Buckinghamshire New University', 'Canterbury Christ Church University', 'Cardiff Metropolitan University', 'Cardiff University', 'Catholic University of Peru (PUCP)', 'City University London', 'Columbia University', 'Coventry University', 'Cranfield University', 'De Montfort University', 'Duke Kunshan University', 'Durham University', 'East China Normal University', 'Edge Hill University', 'Edinburgh Napier University', 'Falmouth University', 'Flinders University', 'Glasgow Caledonian University', 'Glyndwr University', 'Harper Adams University', 'Harvard University', 'Hawassa University', 'Heriot-Watt University', 'Johns Hopkins University', 'Justus-Liebig University Giessen', 'Keele University', 'Kenyatta University', 'Kiel University', 'Kingston University', 'Kingston University Higher Education Corporation', 'Lancaster University', 'Leeds Beckett University', 'Leeds Metropolitan University', 'Liverpool Hope University', 'Liverpool John Moores University', 'London Metropolitan University', 'London South Bank University', 'Loughborough University', 'Lund University', 'Makerere University', 'Manchester Metropolitan University', 'Massey University', 'McMaster University', 'Michigan State University', 'Middlesex University', 'Monash University', 'Mzumbe University', 'National University of Singapore', 'New York University', 'Newcastle University', 'North Carolina State University', 'North West University', 'Northumbria University', 'Norwich University College of the Arts', 'Nottingham Trent University', 'Open University', 'Open University Worldwide Limited', 'Oxford Brookes University', 'Oxford University', 'Oxford University Hospitals NHS Trust', 'Oxford Vaccine Group, University of Oxford', 'Peruvian University Cayetano Heredia', 'Pham Ngoc Thach University of Medicine', 'Queen Margaret University Edinburgh', 'Queen Mary, University of London', \"Queen's University of Belfast\", \"Queen's University of Belfast Foundation -The\", 'Radboud University Nijmegen', 'Rhodes University', 'Roehampton University', 'Royal Holloway, University of London', 'Ruhr University Bochum', 'Saarland University', 'Shandong University', 'Sheffield Hallam University', 'Sokoine University of Agriculture', 'Southampton Solent University', 'Southampton Solent University Limited', \"St George's University of London\", 'St George’s University Hospitals NHS Foundation Trust', 'St Marys University Twickenham', 'Staffordshire University', 'Stellenbosch University', 'Stony Brook University', 'Strathmore University', 'Stuttgart University', 'Sun Yat-Sen University', 'Swansea Metropolitan University', 'Swansea University', 'The Jenner Institute, University of Oxford', 'The Robert Gordon University', 'The University of Birmingham (MTC)', 'The University of Bolton Enterprises Company Limited', 'The University of Buckingham', 'The University of Cumbria', 'The University of West London', 'The Victoria University of Manchester', 'Tufts University', 'Umea University', 'University Cheikh Anta Diop de Dakar', 'University College London', 'University College London Hospitals Charity (UCLH)', 'University Hospital Southampton NHS Foundation Trust', 'University Hospitals of Leicester NHS', 'University for the Creative Arts', 'University of Aberdeen', 'University of Abertay Dundee', 'University of Bath', 'University of Bedfordshire', 'University of Birmingham', 'University of Bolton', 'University of Bradford', 'University of Bradford(The)', 'University of Brighton', 'University of Bristol', 'University of Buckingham', 'University of California, Berkeley', 'University of California, Santa Cruz', 'University of Cambridge', 'University of Cape Town', 'University of Central Asia', 'University of Central Lancashire', 'University of Chester', 'University of Chichester', 'University of Copenhagen', 'University of Cumbria', 'University of Dar es Salaam', 'University of Derby', 'University of Dundee', 'University of East Anglia', 'University of East London', 'University of Edinburgh', 'University of Essex', 'University of Exeter', 'University of Geneva', 'University of Glamorgan', 'University of Glasgow', 'University of Gloucestershire', 'University of Goettingen', 'University of Greenwich', 'University of Hertfordshire', 'University of Houston', 'University of Huddersfield', 'University of Hull', 'University of Ibadan', 'University of Johannesburg', 'University of Kent', 'University of KwaZulu-Natal', 'University of Leeds', 'University of Leicester', 'University of Lincoln', 'University of Liverpool', 'University of London', 'University of Maiduguri', 'University of Malawi', 'University of Manchester', 'University of Michigan', 'University of Milan-Bicocca', 'University of Muenster (Munster)', 'University of Nairobi', 'University of Northampton', 'University of Nottingham', 'University of Oxford', 'University of Pennsylvania', 'University of Plymouth', 'University of Portsmouth', 'University of Portsmouth Higher Education Corporation', 'University of Reading', 'University of Salford', 'University of Salford(The)', 'University of Sao Paolo', 'University of Sheffield', 'University of South Wales', 'University of Southampton', 'University of St Andrews', 'University of Stirling', 'University of Stockholm', 'University of Strathclyde', 'University of Strathclyde Viz Royal College of Science & Technology', 'University of Suffolk Ltd', 'University of Sunderland', 'University of Sunderland Enterprises Limited', 'University of Surrey', 'University of Sussex', 'University of Tasmania', 'University of Teesside', 'University of Ulm', 'University of Ulster', 'University of Wales', 'University of Wales, Lampeter', 'University of Wales, Newport', 'University of Wales: Trinity Saint David', 'University of Warwick', 'University of Warwick (WMG)', 'University of West London', 'University of Westminster', 'University of Winchester', 'University of Wolverhampton', 'University of Worcester', 'University of Wuerzburg', 'University of York', 'University of Zurich', 'University of the Andes - Colombia', 'University of the Arts London', 'University of the Free State', 'University of the Highlands and Islands', 'University of the West Indies', 'University of the West of England', \"University of the West of England, Bristol's International College\", 'University of the West of Scotland', 'University of the Western Cape', 'University of the Witwatersrand', 'Wageningen University', 'Washington University in St Louis', 'Weber State University', 'York St John University'), value='Aberystwyth University'), Dropdown(description='two', options=('Aberystwyth University', 'Addis Ababa University', 'Aga Khan University', 'Albert-Ludwigs University Freiburg', 'American University of Beirut', 'Anglia Ruskin University', 'Arts University Bournemouth', 'Aston University', 'Bangor University', 'Bath Spa University', 'Birmingham City University', 'Bishop Grosseteste University College', 'Bournemouth University', 'Brown University', 'Brunel University', 'Brunel University London', 'Buckinghamshire New University', 'Canterbury Christ Church University', 'Cardiff Metropolitan University', 'Cardiff University', 'Catholic University of Peru (PUCP)', 'City University London', 'Columbia University', 'Coventry University', 'Cranfield University', 'De Montfort University', 'Duke Kunshan University', 'Durham University', 'East China Normal University', 'Edge Hill University', 'Edinburgh Napier University', 'Falmouth University', 'Flinders University', 'Glasgow Caledonian University', 'Glyndwr University', 'Harper Adams University', 'Harvard University', 'Hawassa University', 'Heriot-Watt University', 'Johns Hopkins University', 'Justus-Liebig University Giessen', 'Keele University', 'Kenyatta University', 'Kiel University', 'Kingston University', 'Kingston University Higher Education Corporation', 'Lancaster University', 'Leeds Beckett University', 'Leeds Metropolitan University', 'Liverpool Hope University', 'Liverpool John Moores University', 'London Metropolitan University', 'London South Bank University', 'Loughborough University', 'Lund University', 'Makerere University', 'Manchester Metropolitan University', 'Massey University', 'McMaster University', 'Michigan State University', 'Middlesex University', 'Monash University', 'Mzumbe University', 'National University of Singapore', 'New York University', 'Newcastle University', 'North Carolina State University', 'North West University', 'Northumbria University', 'Norwich University College of the Arts', 'Nottingham Trent University', 'Open University', 'Open University Worldwide Limited', 'Oxford Brookes University', 'Oxford University', 'Oxford University Hospitals NHS Trust', 'Oxford Vaccine Group, University of Oxford', 'Peruvian University Cayetano Heredia', 'Pham Ngoc Thach University of Medicine', 'Queen Margaret University Edinburgh', 'Queen Mary, University of London', \"Queen's University of Belfast\", \"Queen's University of Belfast Foundation -The\", 'Radboud University Nijmegen', 'Rhodes University', 'Roehampton University', 'Royal Holloway, University of London', 'Ruhr University Bochum', 'Saarland University', 'Shandong University', 'Sheffield Hallam University', 'Sokoine University of Agriculture', 'Southampton Solent University', 'Southampton Solent University Limited', \"St George's University of London\", 'St George’s University Hospitals NHS Foundation Trust', 'St Marys University Twickenham', 'Staffordshire University', 'Stellenbosch University', 'Stony Brook University', 'Strathmore University', 'Stuttgart University', 'Sun Yat-Sen University', 'Swansea Metropolitan University', 'Swansea University', 'The Jenner Institute, University of Oxford', 'The Robert Gordon University', 'The University of Birmingham (MTC)', 'The University of Bolton Enterprises Company Limited', 'The University of Buckingham', 'The University of Cumbria', 'The University of West London', 'The Victoria University of Manchester', 'Tufts University', 'Umea University', 'University Cheikh Anta Diop de Dakar', 'University College London', 'University College London Hospitals Charity (UCLH)', 'University Hospital Southampton NHS Foundation Trust', 'University Hospitals of Leicester NHS', 'University for the Creative Arts', 'University of Aberdeen', 'University of Abertay Dundee', 'University of Bath', 'University of Bedfordshire', 'University of Birmingham', 'University of Bolton', 'University of Bradford', 'University of Bradford(The)', 'University of Brighton', 'University of Bristol', 'University of Buckingham', 'University of California, Berkeley', 'University of California, Santa Cruz', 'University of Cambridge', 'University of Cape Town', 'University of Central Asia', 'University of Central Lancashire', 'University of Chester', 'University of Chichester', 'University of Copenhagen', 'University of Cumbria', 'University of Dar es Salaam', 'University of Derby', 'University of Dundee', 'University of East Anglia', 'University of East London', 'University of Edinburgh', 'University of Essex', 'University of Exeter', 'University of Geneva', 'University of Glamorgan', 'University of Glasgow', 'University of Gloucestershire', 'University of Goettingen', 'University of Greenwich', 'University of Hertfordshire', 'University of Houston', 'University of Huddersfield', 'University of Hull', 'University of Ibadan', 'University of Johannesburg', 'University of Kent', 'University of KwaZulu-Natal', 'University of Leeds', 'University of Leicester', 'University of Lincoln', 'University of Liverpool', 'University of London', 'University of Maiduguri', 'University of Malawi', 'University of Manchester', 'University of Michigan', 'University of Milan-Bicocca', 'University of Muenster (Munster)', 'University of Nairobi', 'University of Northampton', 'University of Nottingham', 'University of Oxford', 'University of Pennsylvania', 'University of Plymouth', 'University of Portsmouth', 'University of Portsmouth Higher Education Corporation', 'University of Reading', 'University of Salford', 'University of Salford(The)', 'University of Sao Paolo', 'University of Sheffield', 'University of South Wales', 'University of Southampton', 'University of St Andrews', 'University of Stirling', 'University of Stockholm', 'University of Strathclyde', 'University of Strathclyde Viz Royal College of Science & Technology', 'University of Suffolk Ltd', 'University of Sunderland', 'University of Sunderland Enterprises Limited', 'University of Surrey', 'University of Sussex', 'University of Tasmania', 'University of Teesside', 'University of Ulm', 'University of Ulster', 'University of Wales', 'University of Wales, Lampeter', 'University of Wales, Newport', 'University of Wales: Trinity Saint David', 'University of Warwick', 'University of Warwick (WMG)', 'University of West London', 'University of Westminster', 'University of Winchester', 'University of Wolverhampton', 'University of Worcester', 'University of Wuerzburg', 'University of York', 'University of Zurich', 'University of the Andes - Colombia', 'University of the Arts London', 'University of the Free State', 'University of the Highlands and Islands', 'University of the West Indies', 'University of the West of England', \"University of the West of England, Bristol's International College\", 'University of the West of Scotland', 'University of the Western Cape', 'University of the Witwatersrand', 'Wageningen University', 'Washington University in St Louis', 'Weber State University', 'York St John University'), value='Aberystwyth University'), Button(description='Run Interact', style=ButtonStyle()), Output()), _dom_classes=('widget-interact',))"
      ]
     },
     "metadata": {},
     "output_type": "display_data"
    },
    {
     "data": {
      "text/plain": [
       "<function __main__.compare_projects>"
      ]
     },
     "execution_count": 21,
     "metadata": {},
     "output_type": "execute_result"
    }
   ],
   "source": [
    "plt.figure(figsize=(15,10))\n",
    "\n",
    "universities = sorted([n for n in df['LeadROName'].unique() if 'University' in n])\n",
    "interact_manual(\n",
    "    compare_projects,\n",
    "    one = universities, \n",
    "    two = universities, \n",
    "    )"
   ]
  },
  {
   "cell_type": "code",
   "execution_count": 22,
   "metadata": {},
   "outputs": [
    {
     "data": {
      "text/html": [
       "<script>\n",
       "code_show=true; \n",
       "function code_toggle() {\n",
       " if (code_show){\n",
       " $('div.input').hide();\n",
       " } else {\n",
       " $('div.input').show();\n",
       " }\n",
       " code_show = !code_show\n",
       "} \n",
       "$( document ).ready(code_toggle);\n",
       "</script>\n",
       "<a href=\"javascript:code_toggle()\">toggle code</a>."
      ],
      "text/plain": [
       "<IPython.core.display.HTML object>"
      ]
     },
     "execution_count": 22,
     "metadata": {},
     "output_type": "execute_result"
    }
   ],
   "source": [
    "HTML('''<script>\n",
    "code_show=true; \n",
    "function code_toggle() {\n",
    " if (code_show){\n",
    " $('div.input').hide();\n",
    " } else {\n",
    " $('div.input').show();\n",
    " }\n",
    " code_show = !code_show\n",
    "} \n",
    "$( document ).ready(code_toggle);\n",
    "</script>\n",
    "<a href=\"javascript:code_toggle()\">toggle code</a>.''')"
   ]
  }
 ],
 "metadata": {
  "kernelspec": {
   "display_name": "datavis",
   "language": "python",
   "name": "datavis"
  },
  "language_info": {
   "codemirror_mode": {
    "name": "ipython",
    "version": 3
   },
   "file_extension": ".py",
   "mimetype": "text/x-python",
   "name": "python",
   "nbconvert_exporter": "python",
   "pygments_lexer": "ipython3",
   "version": "3.5.2"
  }
 },
 "nbformat": 4,
 "nbformat_minor": 2
}
